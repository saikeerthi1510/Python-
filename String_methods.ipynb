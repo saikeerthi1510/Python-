{
  "nbformat": 4,
  "nbformat_minor": 0,
  "metadata": {
    "colab": {
      "provenance": [],
      "authorship_tag": "ABX9TyMyQmy0lEmL6tZDn3u0GYDb",
      "include_colab_link": true
    },
    "kernelspec": {
      "name": "python3",
      "display_name": "Python 3"
    },
    "language_info": {
      "name": "python"
    }
  },
  "cells": [
    {
      "cell_type": "markdown",
      "metadata": {
        "id": "view-in-github",
        "colab_type": "text"
      },
      "source": [
        "<a href=\"https://colab.research.google.com/github/saikeerthi1510/Python-/blob/main/String_methods.ipynb\" target=\"_parent\"><img src=\"https://colab.research.google.com/assets/colab-badge.svg\" alt=\"Open In Colab\"/></a>"
      ]
    },
    {
      "cell_type": "code",
      "execution_count": null,
      "metadata": {
        "colab": {
          "base_uri": "https://localhost:8080/"
        },
        "id": "sXo_0Q06KNAU",
        "outputId": "26c29ac5-42d0-467f-8c4d-33d451588170"
      },
      "outputs": [
        {
          "output_type": "stream",
          "name": "stdout",
          "text": [
            "True\n"
          ]
        }
      ],
      "source": [
        "a=\"gayathri\"\n",
        "x=a.islower()\n",
        "print(x)"
      ]
    },
    {
      "cell_type": "code",
      "source": [
        "a=\"Hello world\"\n",
        "x=a.index(\"world\")\n",
        "print(x)"
      ],
      "metadata": {
        "colab": {
          "base_uri": "https://localhost:8080/"
        },
        "id": "_Pzhwk33KUT1",
        "outputId": "af359ce7-6bec-48b7-8201-8424c7b4999b"
      },
      "execution_count": null,
      "outputs": [
        {
          "output_type": "stream",
          "name": "stdout",
          "text": [
            "6\n"
          ]
        }
      ]
    },
    {
      "cell_type": "code",
      "source": [
        "a=\"Hello world\"\n",
        "x=a.rfind(\"d\")\n",
        "print(x)"
      ],
      "metadata": {
        "colab": {
          "base_uri": "https://localhost:8080/"
        },
        "id": "qTKxt8iJKWHh",
        "outputId": "35d9b7da-f613-4398-d79a-f69cd374cd22"
      },
      "execution_count": null,
      "outputs": [
        {
          "output_type": "stream",
          "name": "stdout",
          "text": [
            "10\n"
          ]
        }
      ]
    },
    {
      "cell_type": "code",
      "source": [
        "a=\"Keerthi     \"\n",
        "x=a.lstrip()\n",
        "print(x)"
      ],
      "metadata": {
        "colab": {
          "base_uri": "https://localhost:8080/"
        },
        "id": "9bDALUfPKYNs",
        "outputId": "393aef8a-236f-42d5-e9c4-796795f93703"
      },
      "execution_count": null,
      "outputs": [
        {
          "output_type": "stream",
          "name": "stdout",
          "text": [
            "Keerthi     \n"
          ]
        }
      ]
    },
    {
      "cell_type": "code",
      "source": [
        "a=\"    Keerthi\"\n",
        "x=a.rstrip()\n",
        "print(x)"
      ],
      "metadata": {
        "colab": {
          "base_uri": "https://localhost:8080/"
        },
        "id": "zxdZLELHKaUg",
        "outputId": "d46e6a35-bf11-4c72-a02a-494660f93b49"
      },
      "execution_count": null,
      "outputs": [
        {
          "output_type": "stream",
          "name": "stdout",
          "text": [
            "    Keerthi\n"
          ]
        }
      ]
    }
  ]
}